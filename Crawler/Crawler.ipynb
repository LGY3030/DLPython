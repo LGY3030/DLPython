{
 "cells": [
  {
   "cell_type": "code",
   "execution_count": 8,
   "metadata": {},
   "outputs": [],
   "source": [
    "from datetime import date,timedelta\n",
    "from urllib.request import urlopen\n",
    "from dateutil import rrule\n",
    "import datetime\n",
    "import pandas as pd\n",
    "import numpy as np\n",
    "import json\n",
    "import time"
   ]
  },
  {
   "cell_type": "code",
   "execution_count": 9,
   "metadata": {},
   "outputs": [],
   "source": [
    "# 抓取每個月的資料\n",
    "def getone(stock,month):\n",
    "    url=(\"http://www.twse.com.tw/exchangeReport/STOCK_DAY?response=json&date=\"+month.strftime('%Y%m%d')+\"&stockNo=\"+str(stock))\n",
    "    data = json.loads(urlopen(url).read())\n",
    "    return pd.DataFrame(data['data'],columns=data['fields'])"
   ]
  },
  {
   "cell_type": "code",
   "execution_count": 12,
   "metadata": {},
   "outputs": [],
   "source": [
    "# 抓取全部時間的資料 (利用getone function)\n",
    "def getdata(stock,start,end):\n",
    "    a=[0,0,0]\n",
    "    i=0\n",
    "    for x in start.split('-'):\n",
    "        a[i]=int(x)\n",
    "        i=i+1\n",
    "    begin = date(a[0],a[1],a[2])\n",
    "    b=[0,0,0]\n",
    "    j=0\n",
    "    for x in end.split('-'):\n",
    "        b[j]=int(x)\n",
    "        j=j+1\n",
    "    final = date(b[0],b[1],b[2])\n",
    "    \n",
    "    data = pd.DataFrame()\n",
    "    \n",
    "    for month in rrule.rrule(rrule.MONTHLY, dtstart=begin, until=final):\n",
    "        data = pd.concat([data,getone(stock,month)],ignore_index=True)\n",
    "        time.sleep(9000.0/1000.0);\n",
    "    \n",
    "    return data\n",
    "\n"
   ]
  },
  {
   "cell_type": "code",
   "execution_count": 13,
   "metadata": {},
   "outputs": [],
   "source": [
    "crawl = getdata(2302,\"2012-01-01\",\"2012-12-31\")\n",
    "crawl.set_index(\"日期\", inplace=True)\n",
    "crawl.to_csv('2012.csv', encoding='utf_8_sig')"
   ]
  },
  {
   "cell_type": "code",
   "execution_count": null,
   "metadata": {},
   "outputs": [],
   "source": []
  }
 ],
 "metadata": {
  "kernelspec": {
   "display_name": "Python 3",
   "language": "python",
   "name": "python3"
  },
  "language_info": {
   "codemirror_mode": {
    "name": "ipython",
    "version": 3
   },
   "file_extension": ".py",
   "mimetype": "text/x-python",
   "name": "python",
   "nbconvert_exporter": "python",
   "pygments_lexer": "ipython3",
   "version": "3.7.0"
  }
 },
 "nbformat": 4,
 "nbformat_minor": 2
}
